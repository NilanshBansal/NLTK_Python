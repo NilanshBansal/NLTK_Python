{
 "cells": [
  {
   "cell_type": "code",
   "execution_count": 32,
   "metadata": {},
   "outputs": [],
   "source": [
    "import nltk\n",
    "import random\n",
    "from nltk.corpus import movie_reviews"
   ]
  },
  {
   "cell_type": "code",
   "execution_count": 33,
   "metadata": {},
   "outputs": [
    {
     "data": {
      "text/plain": [
       "['neg', 'pos']"
      ]
     },
     "execution_count": 33,
     "metadata": {},
     "output_type": "execute_result"
    }
   ],
   "source": [
    "movie_reviews.categories()"
   ]
  },
  {
   "cell_type": "code",
   "execution_count": 34,
   "metadata": {},
   "outputs": [
    {
     "name": "stdout",
     "output_type": "stream",
     "text": [
      "['neg/cv000_29416.txt', 'neg/cv001_19502.txt', 'neg/cv002_17424.txt', 'neg/cv003_12683.txt', 'neg/cv004_12641.txt', 'neg/cv005_29357.txt', 'neg/cv006_17022.txt', 'neg/cv007_4992.txt', 'neg/cv008_29326.txt', 'neg/cv009_29417.txt']\n"
     ]
    }
   ],
   "source": [
    "print(movie_reviews.fileids('neg')[0:10])"
   ]
  },
  {
   "cell_type": "code",
   "execution_count": 35,
   "metadata": {},
   "outputs": [
    {
     "name": "stdout",
     "output_type": "stream",
     "text": [
      "(['plot', ':', 'two', 'teen', 'couples', 'go', 'to', 'a', 'church', 'party', ',', 'drink', 'and', 'then', 'drive', '.', 'they', 'get', 'into', 'an', 'accident', '.', 'one', 'of', 'the', 'guys', 'dies', ',', 'but', 'his', 'girlfriend', 'continues', 'to', 'see', 'him', 'in', 'her', 'life', ',', 'and', 'has', 'nightmares', '.', 'what', \"'\", 's', 'the', 'deal', '?', 'watch', 'the', 'movie', 'and', '\"', 'sorta', '\"', 'find', 'out', '.', '.', '.', 'critique', ':', 'a', 'mind', '-', 'fuck', 'movie', 'for', 'the', 'teen', 'generation', 'that', 'touches', 'on', 'a', 'very', 'cool', 'idea', ',', 'but', 'presents', 'it', 'in', 'a', 'very', 'bad', 'package', '.', 'which', 'is', 'what', 'makes', 'this', 'review', 'an', 'even', 'harder', 'one', 'to', 'write', ',', 'since', 'i', 'generally', 'applaud', 'films', 'which', 'attempt', 'to', 'break', 'the', 'mold', ',', 'mess', 'with', 'your', 'head', 'and', 'such', '(', 'lost', 'highway', '&', 'memento', ')', ',', 'but', 'there', 'are', 'good', 'and', 'bad', 'ways', 'of', 'making', 'all', 'types', 'of', 'films', ',', 'and', 'these', 'folks', 'just', 'didn', \"'\", 't', 'snag', 'this', 'one', 'correctly', '.', 'they', 'seem', 'to', 'have', 'taken', 'this', 'pretty', 'neat', 'concept', ',', 'but', 'executed', 'it', 'terribly', '.', 'so', 'what', 'are', 'the', 'problems', 'with', 'the', 'movie', '?', 'well', ',', 'its', 'main', 'problem', 'is', 'that', 'it', \"'\", 's', 'simply', 'too', 'jumbled', '.', 'it', 'starts', 'off', '\"', 'normal', '\"', 'but', 'then', 'downshifts', 'into', 'this', '\"', 'fantasy', '\"', 'world', 'in', 'which', 'you', ',', 'as', 'an', 'audience', 'member', ',', 'have', 'no', 'idea', 'what', \"'\", 's', 'going', 'on', '.', 'there', 'are', 'dreams', ',', 'there', 'are', 'characters', 'coming', 'back', 'from', 'the', 'dead', ',', 'there', 'are', 'others', 'who', 'look', 'like', 'the', 'dead', ',', 'there', 'are', 'strange', 'apparitions', ',', 'there', 'are', 'disappearances', ',', 'there', 'are', 'a', 'looooot', 'of', 'chase', 'scenes', ',', 'there', 'are', 'tons', 'of', 'weird', 'things', 'that', 'happen', ',', 'and', 'most', 'of', 'it', 'is', 'simply', 'not', 'explained', '.', 'now', 'i', 'personally', 'don', \"'\", 't', 'mind', 'trying', 'to', 'unravel', 'a', 'film', 'every', 'now', 'and', 'then', ',', 'but', 'when', 'all', 'it', 'does', 'is', 'give', 'me', 'the', 'same', 'clue', 'over', 'and', 'over', 'again', ',', 'i', 'get', 'kind', 'of', 'fed', 'up', 'after', 'a', 'while', ',', 'which', 'is', 'this', 'film', \"'\", 's', 'biggest', 'problem', '.', 'it', \"'\", 's', 'obviously', 'got', 'this', 'big', 'secret', 'to', 'hide', ',', 'but', 'it', 'seems', 'to', 'want', 'to', 'hide', 'it', 'completely', 'until', 'its', 'final', 'five', 'minutes', '.', 'and', 'do', 'they', 'make', 'things', 'entertaining', ',', 'thrilling', 'or', 'even', 'engaging', ',', 'in', 'the', 'meantime', '?', 'not', 'really', '.', 'the', 'sad', 'part', 'is', 'that', 'the', 'arrow', 'and', 'i', 'both', 'dig', 'on', 'flicks', 'like', 'this', ',', 'so', 'we', 'actually', 'figured', 'most', 'of', 'it', 'out', 'by', 'the', 'half', '-', 'way', 'point', ',', 'so', 'all', 'of', 'the', 'strangeness', 'after', 'that', 'did', 'start', 'to', 'make', 'a', 'little', 'bit', 'of', 'sense', ',', 'but', 'it', 'still', 'didn', \"'\", 't', 'the', 'make', 'the', 'film', 'all', 'that', 'more', 'entertaining', '.', 'i', 'guess', 'the', 'bottom', 'line', 'with', 'movies', 'like', 'this', 'is', 'that', 'you', 'should', 'always', 'make', 'sure', 'that', 'the', 'audience', 'is', '\"', 'into', 'it', '\"', 'even', 'before', 'they', 'are', 'given', 'the', 'secret', 'password', 'to', 'enter', 'your', 'world', 'of', 'understanding', '.', 'i', 'mean', ',', 'showing', 'melissa', 'sagemiller', 'running', 'away', 'from', 'visions', 'for', 'about', '20', 'minutes', 'throughout', 'the', 'movie', 'is', 'just', 'plain', 'lazy', '!', '!', 'okay', ',', 'we', 'get', 'it', '.', '.', '.', 'there', 'are', 'people', 'chasing', 'her', 'and', 'we', 'don', \"'\", 't', 'know', 'who', 'they', 'are', '.', 'do', 'we', 'really', 'need', 'to', 'see', 'it', 'over', 'and', 'over', 'again', '?', 'how', 'about', 'giving', 'us', 'different', 'scenes', 'offering', 'further', 'insight', 'into', 'all', 'of', 'the', 'strangeness', 'going', 'down', 'in', 'the', 'movie', '?', 'apparently', ',', 'the', 'studio', 'took', 'this', 'film', 'away', 'from', 'its', 'director', 'and', 'chopped', 'it', 'up', 'themselves', ',', 'and', 'it', 'shows', '.', 'there', 'might', \"'\", 've', 'been', 'a', 'pretty', 'decent', 'teen', 'mind', '-', 'fuck', 'movie', 'in', 'here', 'somewhere', ',', 'but', 'i', 'guess', '\"', 'the', 'suits', '\"', 'decided', 'that', 'turning', 'it', 'into', 'a', 'music', 'video', 'with', 'little', 'edge', ',', 'would', 'make', 'more', 'sense', '.', 'the', 'actors', 'are', 'pretty', 'good', 'for', 'the', 'most', 'part', ',', 'although', 'wes', 'bentley', 'just', 'seemed', 'to', 'be', 'playing', 'the', 'exact', 'same', 'character', 'that', 'he', 'did', 'in', 'american', 'beauty', ',', 'only', 'in', 'a', 'new', 'neighborhood', '.', 'but', 'my', 'biggest', 'kudos', 'go', 'out', 'to', 'sagemiller', ',', 'who', 'holds', 'her', 'own', 'throughout', 'the', 'entire', 'film', ',', 'and', 'actually', 'has', 'you', 'feeling', 'her', 'character', \"'\", 's', 'unraveling', '.', 'overall', ',', 'the', 'film', 'doesn', \"'\", 't', 'stick', 'because', 'it', 'doesn', \"'\", 't', 'entertain', ',', 'it', \"'\", 's', 'confusing', ',', 'it', 'rarely', 'excites', 'and', 'it', 'feels', 'pretty', 'redundant', 'for', 'most', 'of', 'its', 'runtime', ',', 'despite', 'a', 'pretty', 'cool', 'ending', 'and', 'explanation', 'to', 'all', 'of', 'the', 'craziness', 'that', 'came', 'before', 'it', '.', 'oh', ',', 'and', 'by', 'the', 'way', ',', 'this', 'is', 'not', 'a', 'horror', 'or', 'teen', 'slasher', 'flick', '.', '.', '.', 'it', \"'\", 's', 'just', 'packaged', 'to', 'look', 'that', 'way', 'because', 'someone', 'is', 'apparently', 'assuming', 'that', 'the', 'genre', 'is', 'still', 'hot', 'with', 'the', 'kids', '.', 'it', 'also', 'wrapped', 'production', 'two', 'years', 'ago', 'and', 'has', 'been', 'sitting', 'on', 'the', 'shelves', 'ever', 'since', '.', 'whatever', '.', '.', '.', 'skip', 'it', '!', 'where', \"'\", 's', 'joblo', 'coming', 'from', '?', 'a', 'nightmare', 'of', 'elm', 'street', '3', '(', '7', '/', '10', ')', '-', 'blair', 'witch', '2', '(', '7', '/', '10', ')', '-', 'the', 'crow', '(', '9', '/', '10', ')', '-', 'the', 'crow', ':', 'salvation', '(', '4', '/', '10', ')', '-', 'lost', 'highway', '(', '10', '/', '10', ')', '-', 'memento', '(', '10', '/', '10', ')', '-', 'the', 'others', '(', '9', '/', '10', ')', '-', 'stir', 'of', 'echoes', '(', '8', '/', '10', ')'], 'neg')\n"
     ]
    }
   ],
   "source": [
    "print((list(movie_reviews.words('neg/cv000_29416.txt')),'neg'))"
   ]
  },
  {
   "cell_type": "code",
   "execution_count": 36,
   "metadata": {},
   "outputs": [
    {
     "name": "stdout",
     "output_type": "stream",
     "text": [
      "['plot', ':', 'two', 'teen', 'couples', 'go', 'to', 'a', 'church', 'party', ',', 'drink', 'and', 'then', 'drive', '.', 'they', 'get', 'into', 'an', 'accident', '.', 'one', 'of', 'the', 'guys', 'dies', ',', 'but', 'his', 'girlfriend', 'continues', 'to', 'see', 'him', 'in', 'her', 'life', ',', 'and', 'has', 'nightmares', '.', 'what', \"'\", 's', 'the', 'deal', '?', 'watch', 'the', 'movie', 'and', '\"', 'sorta', '\"', 'find', 'out', '.', '.', '.', 'critique', ':', 'a', 'mind', '-', 'fuck', 'movie', 'for', 'the', 'teen', 'generation', 'that', 'touches', 'on', 'a', 'very', 'cool', 'idea', ',', 'but', 'presents', 'it', 'in', 'a', 'very', 'bad', 'package', '.', 'which', 'is', 'what', 'makes', 'this', 'review', 'an', 'even', 'harder', 'one', 'to', 'write', ',', 'since', 'i', 'generally', 'applaud', 'films', 'which', 'attempt', 'to', 'break', 'the', 'mold', ',', 'mess', 'with', 'your', 'head', 'and', 'such', '(', 'lost', 'highway', '&', 'memento', ')', ',', 'but', 'there', 'are', 'good', 'and', 'bad', 'ways', 'of', 'making', 'all', 'types', 'of', 'films', ',', 'and', 'these', 'folks', 'just', 'didn', \"'\", 't', 'snag', 'this', 'one', 'correctly', '.', 'they', 'seem', 'to', 'have', 'taken', 'this', 'pretty', 'neat', 'concept', ',', 'but', 'executed', 'it', 'terribly', '.', 'so', 'what', 'are', 'the', 'problems', 'with', 'the', 'movie', '?', 'well', ',', 'its', 'main', 'problem', 'is', 'that', 'it', \"'\", 's', 'simply', 'too', 'jumbled', '.', 'it', 'starts', 'off', '\"', 'normal', '\"', 'but', 'then', 'downshifts', 'into', 'this', '\"', 'fantasy', '\"', 'world', 'in', 'which', 'you', ',', 'as', 'an', 'audience', 'member', ',', 'have', 'no', 'idea', 'what', \"'\", 's', 'going', 'on', '.', 'there', 'are', 'dreams', ',', 'there', 'are', 'characters', 'coming', 'back', 'from', 'the', 'dead', ',', 'there', 'are', 'others', 'who', 'look', 'like', 'the', 'dead', ',', 'there', 'are', 'strange', 'apparitions', ',', 'there', 'are', 'disappearances', ',', 'there', 'are', 'a', 'looooot', 'of', 'chase', 'scenes', ',', 'there', 'are', 'tons', 'of', 'weird', 'things', 'that', 'happen', ',', 'and', 'most', 'of', 'it', 'is', 'simply', 'not', 'explained', '.', 'now', 'i', 'personally', 'don', \"'\", 't', 'mind', 'trying', 'to', 'unravel', 'a', 'film', 'every', 'now', 'and', 'then', ',', 'but', 'when', 'all', 'it', 'does', 'is', 'give', 'me', 'the', 'same', 'clue', 'over', 'and', 'over', 'again', ',', 'i', 'get', 'kind', 'of', 'fed', 'up', 'after', 'a', 'while', ',', 'which', 'is', 'this', 'film', \"'\", 's', 'biggest', 'problem', '.', 'it', \"'\", 's', 'obviously', 'got', 'this', 'big', 'secret', 'to', 'hide', ',', 'but', 'it', 'seems', 'to', 'want', 'to', 'hide', 'it', 'completely', 'until', 'its', 'final', 'five', 'minutes', '.', 'and', 'do', 'they', 'make', 'things', 'entertaining', ',', 'thrilling', 'or', 'even', 'engaging', ',', 'in', 'the', 'meantime', '?', 'not', 'really', '.', 'the', 'sad', 'part', 'is', 'that', 'the', 'arrow', 'and', 'i', 'both', 'dig', 'on', 'flicks', 'like', 'this', ',', 'so', 'we', 'actually', 'figured', 'most', 'of', 'it', 'out', 'by', 'the', 'half', '-', 'way', 'point', ',', 'so', 'all', 'of', 'the', 'strangeness', 'after', 'that', 'did', 'start', 'to', 'make', 'a', 'little', 'bit', 'of', 'sense', ',', 'but', 'it', 'still', 'didn', \"'\", 't', 'the', 'make', 'the', 'film', 'all', 'that', 'more', 'entertaining', '.', 'i', 'guess', 'the', 'bottom', 'line', 'with', 'movies', 'like', 'this', 'is', 'that', 'you', 'should', 'always', 'make', 'sure', 'that', 'the', 'audience', 'is', '\"', 'into', 'it', '\"', 'even', 'before', 'they', 'are', 'given', 'the', 'secret', 'password', 'to', 'enter', 'your', 'world', 'of', 'understanding', '.', 'i', 'mean', ',', 'showing', 'melissa', 'sagemiller', 'running', 'away', 'from', 'visions', 'for', 'about', '20', 'minutes', 'throughout', 'the', 'movie', 'is', 'just', 'plain', 'lazy', '!', '!', 'okay', ',', 'we', 'get', 'it', '.', '.', '.', 'there', 'are', 'people', 'chasing', 'her', 'and', 'we', 'don', \"'\", 't', 'know', 'who', 'they', 'are', '.', 'do', 'we', 'really', 'need', 'to', 'see', 'it', 'over', 'and', 'over', 'again', '?', 'how', 'about', 'giving', 'us', 'different', 'scenes', 'offering', 'further', 'insight', 'into', 'all', 'of', 'the', 'strangeness', 'going', 'down', 'in', 'the', 'movie', '?', 'apparently', ',', 'the', 'studio', 'took', 'this', 'film', 'away', 'from', 'its', 'director', 'and', 'chopped', 'it', 'up', 'themselves', ',', 'and', 'it', 'shows', '.', 'there', 'might', \"'\", 've', 'been', 'a', 'pretty', 'decent', 'teen', 'mind', '-', 'fuck', 'movie', 'in', 'here', 'somewhere', ',', 'but', 'i', 'guess', '\"', 'the', 'suits', '\"', 'decided', 'that', 'turning', 'it', 'into', 'a', 'music', 'video', 'with', 'little', 'edge', ',', 'would', 'make', 'more', 'sense', '.', 'the', 'actors', 'are', 'pretty', 'good', 'for', 'the', 'most', 'part', ',', 'although', 'wes', 'bentley', 'just', 'seemed', 'to', 'be', 'playing', 'the', 'exact', 'same', 'character', 'that', 'he', 'did', 'in', 'american', 'beauty', ',', 'only', 'in', 'a', 'new', 'neighborhood', '.', 'but', 'my', 'biggest', 'kudos', 'go', 'out', 'to', 'sagemiller', ',', 'who', 'holds', 'her', 'own', 'throughout', 'the', 'entire', 'film', ',', 'and', 'actually', 'has', 'you', 'feeling', 'her', 'character', \"'\", 's', 'unraveling', '.', 'overall', ',', 'the', 'film', 'doesn', \"'\", 't', 'stick', 'because', 'it', 'doesn', \"'\", 't', 'entertain', ',', 'it', \"'\", 's', 'confusing', ',', 'it', 'rarely', 'excites', 'and', 'it', 'feels', 'pretty', 'redundant', 'for', 'most', 'of', 'its', 'runtime', ',', 'despite', 'a', 'pretty', 'cool', 'ending', 'and', 'explanation', 'to', 'all', 'of', 'the', 'craziness', 'that', 'came', 'before', 'it', '.', 'oh', ',', 'and', 'by', 'the', 'way', ',', 'this', 'is', 'not', 'a', 'horror', 'or', 'teen', 'slasher', 'flick', '.', '.', '.', 'it', \"'\", 's', 'just', 'packaged', 'to', 'look', 'that', 'way', 'because', 'someone', 'is', 'apparently', 'assuming', 'that', 'the', 'genre', 'is', 'still', 'hot', 'with', 'the', 'kids', '.', 'it', 'also', 'wrapped', 'production', 'two', 'years', 'ago', 'and', 'has', 'been', 'sitting', 'on', 'the', 'shelves', 'ever', 'since', '.', 'whatever', '.', '.', '.', 'skip', 'it', '!', 'where', \"'\", 's', 'joblo', 'coming', 'from', '?', 'a', 'nightmare', 'of', 'elm', 'street', '3', '(', '7', '/', '10', ')', '-', 'blair', 'witch', '2', '(', '7', '/', '10', ')', '-', 'the', 'crow', '(', '9', '/', '10', ')', '-', 'the', 'crow', ':', 'salvation', '(', '4', '/', '10', ')', '-', 'lost', 'highway', '(', '10', '/', '10', ')', '-', 'memento', '(', '10', '/', '10', ')', '-', 'the', 'others', '(', '9', '/', '10', ')', '-', 'stir', 'of', 'echoes', '(', '8', '/', '10', ')']\n"
     ]
    }
   ],
   "source": [
    "print(list(movie_reviews.words('neg/cv000_29416.txt')))"
   ]
  },
  {
   "cell_type": "code",
   "execution_count": 46,
   "metadata": {},
   "outputs": [],
   "source": [
    "documents = []\n",
    "for category in movie_reviews.categories():\n",
    "    for fileid in movie_reviews.fileids(category):\n",
    "        documents.append((list(movie_reviews.words(fileid)),category))"
   ]
  },
  {
   "cell_type": "code",
   "execution_count": 47,
   "metadata": {},
   "outputs": [],
   "source": [
    "random.shuffle(documents)"
   ]
  },
  {
   "cell_type": "code",
   "execution_count": 48,
   "metadata": {},
   "outputs": [
    {
     "name": "stdout",
     "output_type": "stream",
     "text": [
      "(['there', 'must', 'be', 'some', 'unwritten', 'rule', 'that', 'states', ',', 'one', 'gets', 'enlightenment', 'not', 'in', 'the', 'way', 'one', 'expects', 'to', 'get', 'enlightenment', 'but', 'in', 'the', 'commitment', 'given', 'to', 'seeking', 'wisdom', ',', 'even', 'if', 'it', 'is', 'a', 'foolish', 'road', 'one', 'is', 'on', 'and', 'it', 'seems', 'to', 'be', 'leading', 'nowhere', '.', 'in', 'the', 'exotic', 'morocco', 'of', '1972', ',', 'a', '25', '-', 'year', '-', 'old', 'english', 'hippie', 'mother', ',', 'julia', '(', 'winslet', ')', ',', 'of', 'two', 'sweet', 'young', 'girls', ',', 'the', '6', '-', 'year', '-', 'old', 'lucy', '(', 'carrie', ')', 'and', 'the', '8', '-', 'year', '-', 'old', 'bea', '(', 'bella', ')', ',', 'has', 'arrived', 'for', 'a', 'year', \"'\", 's', 'stay', ',', 'with', 'the', 'self', '-', 'absorbed', 'mother', 'oblivious', 'to', 'how', 'her', 'daughters', 'might', 'be', 'adjusting', 'to', 'this', 'foreign', 'experience', 'while', 'she', 'is', 'searching', 'for', 'a', 'change', 'of', 'life', 'from', 'her', 'unfaithful', 'poet', 'husband', '(', 'she', 'is', 'not', 'officially', 'married', 'to', 'him', ')', 'and', 'her', 'cold', 'one', '-', 'room', 'london', 'flat', ',', 'and', 'is', 'sort', 'of', 'looking', 'for', 'the', 'eternal', 'truth', 'in', 'the', 'sunny', 'climate', 'of', 'marrakech', '.', 'at', 'least', 'she', 'says', 'she', 'is', ',', 'as', 'she', 'is', 'making', 'some', 'attempt', 'to', 'contact', 'a', 'sufi', 'sheikh', 'there', 'who', 'has', 'all', 'the', 'answers', '.', 'she', 'has', 'not', 'planned', 'things', 'out', 'too', 'carefully', ',', 'having', 'no', 'money', ',', 'and', 'the', 'trip', 'doesn', \"'\", 't', 'seem', 'like', 'it', \"'\", 's', 'much', 'fun', ',', 'more', 'like', 'a', 'misadventure', ',', 'with', 'some', 'romance', 'with', 'a', 'local', 'moroccan', 'thrown', 'in', '.', 'drugs', ',', 'a', 'world', '-', 'wide', 'youthful', 'phenomena', 'during', 'this', 'period', ',', 'where', 'many', 'westerners', 'came', 'to', 'morocco', 'to', 'smoke', 'the', 'good', 'hashish', 'found', 'there', 'and', 'to', 'live', 'the', \"'\", 'good', 'life', \"'\", 'cheaply', ',', 'and', 'to', 'be', 'in', 'a', 'spot', 'where', 'they', 'did', 'not', 'have', 'to', 'worry', 'about', 'being', 'hassled', 'by', 'the', 'local', 'authorities', ',', 'even', 'though', 'drugs', 'are', 'illegal', 'there', '.', 'but', 'this', 'is', 'not', 'shown', 'as', 'one', 'of', 'her', 'reasons', 'for', 'being', 'here', '.', 'in', 'this', 'film', ',', 'the', 'subject', 'of', 'drugs', 'is', 'never', 'broached', ',', 'only', 'hinted', 'at', 'in', 'an', 'off', '-', 'handed', 'but', 'slurring', 'way', ',', 'as', 'the', 'hippie', 'commune', 'is', 'shown', 'in', 'a', 'negative', 'light', ',', 'strumming', 'on', 'their', 'guitars', 'and', 'bragging', 'about', 'the', 'hits', 'of', 'acid', 'they', 'have', 'taken', '.', 'even', 'the', 'ones', 'coming', 'here', 'for', 'spiritual', 'reasons', ',', 'to', 'follow', 'the', 'mystical', 'sufis', ',', 'seem', 'lost', 'following', 'a', 'culture', 'that', 'is', 'far', 'different', 'from', 'where', 'they', 'were', 'coming', 'from', '.', 'the', 'film', 'is', 'based', 'on', 'the', 'novel', 'that', 'contained', 'the', 'autobiographical', 'experiences', 'of', 'sigmund', 'freud', \"'\", 's', 'grand', '-', 'daughter', ',', 'esther', 'freud', ',', 'who', 'traveled', 'here', 'in', 'the', '1960s', 'with', 'her', 'mother', 'and', 'sister', '.', 'it', 'is', 'written', 'by', 'the', 'director', \"'\", 's', 'brother', ',', 'who', 'has', 'previously', 'directed', 'regeneration', ',', 'the', 'playboys', ',', 'and', 'trojan', 'eddie', '.', 'the', 'title', 'of', 'the', 'film', 'comes', 'from', 'the', 'squealing', 'giggles', 'that', 'saying', 'hideous', 'kinky', 'gives', 'the', 'little', 'girls', '.', 'with', 'julia', 'strapped', 'for', 'cash', 'and', 'not', 'receiving', 'a', 'needed', 'check', 'her', 'husband', 'often', 'forgets', 'to', 'send', 'her', ',', 'she', 'is', 'prevented', 'from', 'seeing', 'the', 'greatest', 'living', 'sufi', 'who', 'is', 'located', 'in', 'algeria', ';', 'so', 'instead', ',', 'she', 'meets', 'an', 'acrobat', 'street', 'performer', 'in', 'the', 'bazaar', ',', 'bilal', '(', 'said', 'taghmaoui', ')', '.', 'he', 'becomes', 'her', 'lover', ',', 'taking', 'the', 'place', 'of', 'her', 'husband', 'as', 'a', 'father', 'figure', 'for', 'the', 'girls', '.', 'the', 'girls', 'readily', 'accept', 'him', ',', 'and', 'there', 'is', 'no', 'big', '-', 'to', '-', 'do', 'made', 'about', 'their', 'openly', 'sexual', 'relationship', ',', 'but', 'the', 'girls', 'really', 'don', \"'\", 't', 'know', 'what', 'to', 'make', 'of', 'the', 'relationship', '.', 'it', 'especially', 'bothers', 'bea', ',', 'who', 'is', 'embarrassed', 'by', 'her', 'mother', \"'\", 's', 'loose', 'attitude', 'and', 'wants', 'to', 'go', 'home', '.', 'things', 'go', 'surprisingly', 'sour', 'when', 'bilal', 'takes', 'them', 'to', 'stay', 'in', 'his', 'small', 'village', '.', 'it', 'seems', 'only', 'that', 'bilal', \"'\", 's', 'charm', 'is', 'matched', 'by', 'his', 'shiftlessness', ',', 'as', 'he', 'has', 'a', 'wife', 'who', 'still', 'lives', 'there', '.', 'this', 'scene', 'didn', \"'\", 't', 'make', 'too', 'much', 'sense', 'as', 'to', 'why', 'he', 'would', 'take', 'them', 'there', 'knowing', 'the', 'situation', ',', 'unless', 'the', 'uneducated', 'man', 'was', 'totally', 'uneducated', 'in', 'the', 'customs', 'of', 'his', 'people', ',', 'also', '.', 'but', 'i', 'doubt', 'that', '.', 'the', 'family', 'is', 'now', 'stuck', 'without', 'money', 'in', 'a', 'backward', 'area', 'trying', 'to', 'decide', 'what', 'to', 'do', 'next', ',', 'as', 'they', 'hitch', 'a', 'ride', 'away', 'from', 'there', 'with', 'a', 'truck', 'driver', 'who', 'nearly', 'kills', 'them', 'when', 'he', 'falls', 'asleep', 'by', 'the', 'wheel', '.', 'lucy', 'takes', 'it', 'all', 'in', 'stride', 'and', 'has', 'a', 'good', 'disposition', 'for', 'travel', ',', 'while', 'bea', 'just', 'wants', 'to', 'go', 'to', 'a', 'school', 'and', 'learn', 'something', 'and', 'be', 'a', \"'\", 'normal', \"'\", 'girl', '.', 'the', 'beauty', 'of', 'marrakech', 'is', 'matched', 'by', 'the', 'terrific', 'performance', 'of', 'kate', 'winslet', ',', 'as', 'the', 'film', 'accurately', 'encapsulates', 'the', 'timeless', 'city', 'and', 'its', 'bustling', 'street', 'scenes', ',', 'expansive', 'views', ',', 'illustrious', 'mosques', ',', 'and', 'grand', 'sunsets', '.', 'kate', 'enacts', 'the', 'feel', 'of', 'what', 'it', 'was', 'like', 'to', 'be', 'a', 'westerner', ',', 'living', 'out', 'the', 'countercultural', 'experiences', 'while', 'awaiting', 'to', 'gather', 'her', 'sensibilities', 'again', 'and', 'was', 'fortunate', 'enough', 'to', 'be', 'able', 'to', 'go', 'home', 'the', 'better', 'off', 'for', 'her', 'experiences', ',', 'as', 'many', 'a', 'drop', '-', 'out', 'reluctantly', 'had', 'to', 'do', 'after', 'their', 'stay', 'ran', 'out', 'of', 'money', 'and', 'purpose', '.', 'the', 'background', 'music', 'from', 'groups', 'like', 'america', 'and', 'jefferson', 'airplane', ',', 'provided', 'further', 'nostalgia', 'for', 'this', 'easy', 'to', 'look', 'at', 'and', 'easy', 'to', 'grasp', 'film', '.', 'the', 'only', 'hope', 'was', 'that', 'the', 'two', 'innocent', 'girls', 'would', 'not', 'be', 'permanently', 'harmed', 'while', 'on', 'this', 'sojourn', ',', 'a', 'venture', 'that', 'should', 'be', 'reserved', 'only', 'for', 'those', 'of', 'college', 'age', 'or', 'older', 'who', 'choose', 'to', 'go', 'there', 'for', 'themselves', '.', 'the', 'family', \"'\", 's', 'travel', ',', 'which', 'is', 'on', 'the', 'edge', ',', 'has', 'julia', 'waking', 'up', 'screaming', 'from', 'dreams', 'that', 'are', 'bleakly', 'haunting', ';', 'but', ',', 'when', 'she', 'gets', 'up', ',', 'all', 'there', 'is', ',', 'is', 'this', 'splendid', 'emptiness', 'all', 'around', 'her', 'and', 'a', 'vacuous', 'life', 'that', 'is', 'starting', 'to', 'bother', 'her', '.', 'that', 'marrakech', 'is', 'disarmingly', 'gorgeous', 'and', 'that', 'london', 'is', 'old', 'hat', 'to', 'her', ',', 'is', 'starting', 'to', 'wear', 'thin', 'in', 'her', 'thoughts', '.', 'it', 'will', 'dawn', 'on', 'her', ',', 'when', 'bea', 'takes', 'ill', ',', 'as', 'she', 'reflects', 'on', 'what', 'the', 'sufi', 'guru', 'tells', 'her', ',', 'whom', 'she', 'finally', 'meets', 'and', 'is', 'driven', 'to', 'tears', 'in', 'his', 'presence', '.', 'he', 'is', 'the', 'guru', 'who', 'replaced', 'the', 'one', 'she', 'wanted', 'to', 'see', 'but', 'who', 'died', 'before', 'she', 'got', 'a', 'chance', 'to', 'see', 'him', '.', 'the', 'new', 'guru', 'is', 'grounded', 'in', 'reality', ',', 'something', 'she', 'is', 'not', 'grounded', 'in', ',', 'and', 'seems', 'to', 'tell', 'her', 'what', 'she', 'couldn', \"'\", 't', 'comprehend', 'from', 'anyone', 'else', ',', 'even', 'comforting', 'her', ',', 'by', 'telling', 'her', 'that', 'her', 'tears', 'are', 'memories', '-', 'a', 'gift', 'from', 'god', '.', 'the', 'film', \"'\", 's', 'weakness', 'was', 'the', 'empty', 'feeling', 'i', 'got', 'from', 'watching', 'the', 'story', 'unfold', 'in', 'its', 'risk', 'free', 'tenor', '(', 'she', 'was', 'there', 'basically', 'to', 'be', 'just', 'escaping', 'from', 'her', 'situation', ')', 'and', 'how', 'unappealing', 'the', 'love', 'affair', 'seemed', 'between', 'bilal', 'and', 'julia', '.', 'the', 'storyline', 'about', 'a', 'helpless', 'single', 'parent', ',', 'detracted', 'from', 'the', 'vibrant', 'experiences', 'many', 'others', 'of', 'her', 'same', 'baby', '-', 'boom', 'generation', 'had', 'during', 'their', 'trip', 'to', 'morocco', ',', 'who', 'were', 'taken', 'in', 'by', 'the', 'mystical', 'culture', 'of', 'sufism', ',', 'a', 'teaching', 'that', 'has', 'a', 'lot', 'to', 'offer', 'its', 'followers', ',', 'contrary', 'to', 'the', 'impression', 'the', 'film', 'might', 'give', ',', 'seemed', 'to', 'pass', 'her', 'by', '.', 'her', 'knowledge', 'of', 'that', 'trip', 'is', 'only', 'surface', 'deep', ',', 'at', 'best', '.', 'she', 'perhaps', 'would', 'have', 'been', 'better', 'off', 'not', 'taking', 'the', 'kids', 'along', ',', 'smoking', 'some', 'hashish', ',', 'and', 'have', 'been', 'less', 'assured', 'of', 'herself', 'but', 'to', 'have', 'behaved', 'more', 'like', 'a', 'hippie', 'and', 'she', 'wouldn', \"'\", 't', 'have', 'been', 'so', 'uptight', 'all', 'the', 'time', 'and', 'had', 'some', 'fun', 'on', 'her', 'journey', '.', 'after', 'all', ',', 'the', 'mystical', 'trip', 'is', 'the', 'journey', '.', 'the', 'film', \"'\", 's', 'strength', 'is', 'in', 'how', 'all', 'the', 'characters', 'are', 'shown', 'for', 'what', 'they', 'are', ',', 'and', 'no', 'one', 'is', 'that', 'good', 'or', 'that', 'bad', ',', 'or', 'judged', 'too', 'harshly', 'for', 'their', 'shortcomings', '.', 'bilal', 'is', 'unreliable', 'but', 'is', 'capable', 'of', 'generosity', '.', 'the', 'little', 'girls', 'are', 'precocious', 'but', 'they', 'are', 'lovable', '.', 'julia', ',', 'the', 'cornerstone', 'the', 'film', 'is', 'built', 'on', ',', 'is', 'a', 'mother', 'who', 'cares', 'about', 'the', 'children', 'but', 'doesn', \"'\", 't', 'know', 'how', 'to', 'take', 'care', 'of', 'them', 'without', 'unintentionally', 'harming', 'them', '.', 'she', 'was', 'trying', 'to', 'escape', 'from', 'reality', 'and', 'that', 'by', 'returning', 'to', 'london', ',', 'she', 'has', 'another', 'chance', 'to', 'see', 'if', 'she', 'can', 'find', 'the', 'key', 'to', 'this', 'world', 'or', 'whatever', 'world', 'she', 'is', 'looking', 'for', 'and', 'should', 'no', 'longer', 'have', 'nightmares', 'about', 'where', 'she', \"'\", 's', 'at', '.', 'this', 'is', 'a', 'very', 'freudian', 'way', 'to', 'look', 'at', 'things', ',', 'as', 'this', 'sudden', 'realization', ',', 'that', 'things', 'are', 'not', 'right', 'puts', 'an', 'an', 'end', 'to', 'her', 'eastern', 'hippie', 'odyssey', ',', 'at', 'least', ',', 'for', 'the', 'time', 'being', '.', 'and', ',', 'after', 'all', 'is', 'said', 'and', 'done', ',', 'who', \"'\", 's', 'to', 'say', 'if', 'the', 'children', 'are', 'also', 'not', 'better', 'off', 'for', 'surviving', 'their', 'experiences', ',', 'just', 'like', 'she', 'probably', 'was', '!'], 'pos')\n"
     ]
    }
   ],
   "source": [
    "print(documents [1])"
   ]
  },
  {
   "cell_type": "markdown",
   "metadata": {},
   "source": [
    "#### Words from all the movies files"
   ]
  },
  {
   "cell_type": "code",
   "execution_count": 53,
   "metadata": {},
   "outputs": [],
   "source": [
    "all_words = []\n",
    "for w in movie_reviews.words():\n",
    "    all_words.append(w.lower())"
   ]
  },
  {
   "cell_type": "code",
   "execution_count": 57,
   "metadata": {},
   "outputs": [
    {
     "name": "stdout",
     "output_type": "stream",
     "text": [
      "[(',', 77717), ('the', 76529), ('.', 65876), ('a', 38106), ('and', 35576), ('of', 34123), ('to', 31937), (\"'\", 30585), ('is', 25195), ('in', 21822), ('s', 18513), ('\"', 17612), ('it', 16107), ('that', 15924), ('-', 15595)]\n"
     ]
    }
   ],
   "source": [
    "# Finding most common words\n",
    "all_words = nltk.FreqDist(all_words)\n",
    "print(all_words.most_common(15))"
   ]
  },
  {
   "cell_type": "code",
   "execution_count": 59,
   "metadata": {},
   "outputs": [
    {
     "name": "stdout",
     "output_type": "stream",
     "text": [
      "2411\n"
     ]
    }
   ],
   "source": [
    "print(all_words[\"good\"]) #word good is appearing 2411 times"
   ]
  },
  {
   "cell_type": "code",
   "execution_count": null,
   "metadata": {},
   "outputs": [],
   "source": []
  }
 ],
 "metadata": {
  "kernelspec": {
   "display_name": "Python 3",
   "language": "python",
   "name": "python3"
  },
  "language_info": {
   "codemirror_mode": {
    "name": "ipython",
    "version": 3
   },
   "file_extension": ".py",
   "mimetype": "text/x-python",
   "name": "python",
   "nbconvert_exporter": "python",
   "pygments_lexer": "ipython3",
   "version": "3.6.6"
  }
 },
 "nbformat": 4,
 "nbformat_minor": 2
}
