{
 "cells": [
  {
   "cell_type": "code",
   "execution_count": 1,
   "metadata": {},
   "outputs": [],
   "source": [
    "from nltk.tokenize import word_tokenize,sent_tokenize\n",
    "from nltk.corpus import stopwords"
   ]
  },
  {
   "cell_type": "code",
   "execution_count": 2,
   "metadata": {},
   "outputs": [],
   "source": [
    "sentence = \"This is an example to show off working of stop words.\""
   ]
  },
  {
   "cell_type": "code",
   "execution_count": 4,
   "metadata": {},
   "outputs": [
    {
     "name": "stdout",
     "output_type": "stream",
     "text": [
      "['This', 'is', 'an', 'example', 'to', 'show', 'off', 'working', 'of', 'stop', 'words', '.']\n"
     ]
    }
   ],
   "source": [
    "print(word_tokenize(sentence))"
   ]
  },
  {
   "cell_type": "code",
   "execution_count": 16,
   "metadata": {},
   "outputs": [
    {
     "name": "stdout",
     "output_type": "stream",
     "text": [
      "{'out', 'will', 'this', \"you'd\", 'these', 'of', 'such', 'ourselves', 'nor', 'now', 'm', \"weren't\", 'our', 'that', 're', 'than', 'mustn', 'down', 'shan', 'shouldn', 'here', 'an', 'only', \"hasn't\", 'i', 'too', 'hasn', 'into', 'me', 'her', 'yourselves', 'how', \"haven't\", 'a', 'is', 'in', 'up', 'if', 'below', 'under', 'wouldn', 'are', \"doesn't\", \"wasn't\", 'ours', 't', 'by', 'off', 'other', 'doesn', 'same', 'at', 'ma', 'yours', 'themselves', 'theirs', 'did', 'have', 'through', 'few', \"shan't\", \"hadn't\", 'over', 'myself', 'aren', 'them', 'for', 'which', 'my', \"you've\", 'yourself', 'their', 'all', 'both', 'was', \"it's\", 'you', 'were', 'about', 'with', 'during', 'once', \"couldn't\", 'doing', 'more', \"she's\", 'him', 'y', 'because', 'each', 'your', 'most', \"isn't\", 've', 'himself', 'should', 'what', 'couldn', 'd', 'being', 'why', 'no', 'has', 'where', 'they', 'his', \"you're\", 'do', 'not', \"wouldn't\", 'any', 'itself', 'am', 'to', 'when', 'had', 'needn', \"won't\", 'while', 'does', 'the', 'wasn', 'very', 'against', 'hers', 'we', 'there', 'after', 'just', 'can', 'or', 'until', 'don', \"aren't\", 'before', \"you'll\", 'on', 'didn', 'some', 'own', 'weren', \"mightn't\", \"should've\", \"that'll\", 'mightn', 'haven', \"needn't\", 'and', 'ain', 'herself', 'it', 'o', 'but', 'further', 'she', 'above', 'between', 'he', 'having', 'from', 'as', \"mustn't\", 's', \"shouldn't\", 'whom', 'be', 'isn', 'so', 'll', 'won', 'then', 'its', 'again', 'who', 'hadn', \"didn't\", 'those', \"don't\", 'been'}\n"
     ]
    }
   ],
   "source": [
    "print(set(stopwords.words(\"english\")))"
   ]
  },
  {
   "cell_type": "code",
   "execution_count": 18,
   "metadata": {},
   "outputs": [],
   "source": [
    "stop_words = set(stopwords.words(\"english\"))"
   ]
  },
  {
   "cell_type": "code",
   "execution_count": 20,
   "metadata": {},
   "outputs": [],
   "source": [
    "words = word_tokenize(sentence)"
   ]
  },
  {
   "cell_type": "code",
   "execution_count": 25,
   "metadata": {},
   "outputs": [],
   "source": [
    "filtered_sentence = [w for w in words if w not in  stop_words]"
   ]
  },
  {
   "cell_type": "code",
   "execution_count": 26,
   "metadata": {},
   "outputs": [
    {
     "data": {
      "text/plain": [
       "['This', 'example', 'show', 'working', 'stop', 'words', '.']"
      ]
     },
     "execution_count": 26,
     "metadata": {},
     "output_type": "execute_result"
    }
   ],
   "source": [
    "filtered_sentence"
   ]
  },
  {
   "cell_type": "code",
   "execution_count": null,
   "metadata": {},
   "outputs": [],
   "source": []
  }
 ],
 "metadata": {
  "kernelspec": {
   "display_name": "Python 3",
   "language": "python",
   "name": "python3"
  },
  "language_info": {
   "codemirror_mode": {
    "name": "ipython",
    "version": 3
   },
   "file_extension": ".py",
   "mimetype": "text/x-python",
   "name": "python",
   "nbconvert_exporter": "python",
   "pygments_lexer": "ipython3",
   "version": "3.6.6"
  }
 },
 "nbformat": 4,
 "nbformat_minor": 2
}
